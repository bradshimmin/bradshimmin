{
  "nbformat": 4,
  "nbformat_minor": 0,
  "metadata": {
    "colab": {
      "private_outputs": true,
      "provenance": [],
      "mount_file_id": "1YCpXG07B1_nlVm_v0e52OdjlPN46hBTe",
      "authorship_tag": "ABX9TyMQdkQ8rWtqj85VIGwZdFC8",
      "include_colab_link": true
    },
    "kernelspec": {
      "name": "python3",
      "display_name": "Python 3"
    },
    "language_info": {
      "name": "python"
    }
  },
  "cells": [
    {
      "cell_type": "markdown",
      "metadata": {
        "id": "view-in-github",
        "colab_type": "text"
      },
      "source": [
        "<a href=\"https://colab.research.google.com/github/bradshimmin/bradshimmin/blob/main/openai_stock_impact.ipynb\" target=\"_parent\"><img src=\"https://colab.research.google.com/assets/colab-badge.svg\" alt=\"Open In Colab\"/></a>"
      ]
    },
    {
      "cell_type": "markdown",
      "source": [
        "# Notebook to explore Google and Microsoft stocks\n",
        "## Relative to OpenAI Milestones\n",
        "- November 5, 2019, OpenAI releases GPT-2\n",
        "- May 11, 2020, when OpenAI releases GPT-3\n",
        "- September 22, 2020, when OpenAI Licenses GPT-3 Technology to Microsoft\n",
        "- November 30, 2020, when OpenAI introduced chatGPT\n",
        "- August 10, 2021, OpenAI Codex API released\n",
        "- July 20, 2022, when OpenAI DALL·E made available in beta\n",
        "- December 12, 2022 when OpenAI introduced chatGPT user beta"
      ],
      "metadata": {
        "id": "qoilpVUcOKoq"
      }
    },
    {
      "cell_type": "code",
      "execution_count": null,
      "metadata": {
        "id": "KLjq4wvkOA55"
      },
      "outputs": [],
      "source": [
        "# Setup\n",
        "import pandas as pd\n",
        "import numpy as np\n",
        "import plotly.express as px  \n",
        "print(\"all done\")"
      ]
    },
    {
      "cell_type": "code",
      "source": [
        "df = pd.read_csv(\"/content/drive/MyDrive/openai_stocks.csv\")\n",
        "# Data source: https://finance.yahoo.com/\n",
        "# note that nd_close is NASDAQ's colosing number for use later, maybe\n",
        "df.head()"
      ],
      "metadata": {
        "id": "KAyU__BwOXxd"
      },
      "execution_count": null,
      "outputs": []
    },
    {
      "cell_type": "code",
      "source": [
        "df.tail()"
      ],
      "metadata": {
        "id": "E0DUg5j9fM3e"
      },
      "execution_count": null,
      "outputs": []
    },
    {
      "cell_type": "code",
      "source": [
        "# covnert Date to datetime format\n",
        "df['Date'] = pd.to_datetime(df['Date'], format='%Y-%m-%d')\n",
        "print(\"all done\")"
      ],
      "metadata": {
        "id": "6RjDn7suayJG"
      },
      "execution_count": null,
      "outputs": []
    },
    {
      "cell_type": "markdown",
      "source": [
        "# Overall stock comparison for adjusted closing figures"
      ],
      "metadata": {
        "id": "t4nN1MD5Xotd"
      }
    },
    {
      "cell_type": "code",
      "source": [
        "# Overall stock comparison for adjusted closing figures\n",
        "fig = px.line(df, x=\"Date\", y=[\"ms_aclose\", \"goog_aclose\"])\n",
        "\n",
        "fig.add_annotation(x=\"2019-11-05\", y=4, text=\"OpenAI releases GPT-2\", showarrow=True, yshift=10)\n",
        "fig.add_annotation(x=\"2020-05-11\", y=4, text=\"OpenAI releases GPT-3\", showarrow=True, yshift=10)\n",
        "fig.add_annotation(x=\"2020-09-22\", y=4, text=\"OpenAI Licenses GPT-3 Technology to Microsoft\", showarrow=True, yshift=10)\n",
        "fig.add_annotation(x=\"2020-11-30\", y=20, text=\"OpenAI introduced chatGPT\", showarrow=True, yshift=10)\n",
        "fig.add_annotation(x=\"2021-08-10\", y=4, text=\"OpenAI releases Codex API\", showarrow=True, yshift=10)\n",
        "fig.add_annotation(x=\"2022-07-20\", y=4, text=\"OpenAI DALL·E made available in beta\", showarrow=True, yshift=10)\n",
        "fig.add_annotation(x=\"2022-12-12\", y=20, text=\"OpenAI introduced chatGPT user beta\", showarrow=True, yshift=10)\n",
        "\n",
        "fig.show()\n"
      ],
      "metadata": {
        "id": "N6NQY6GVPekT"
      },
      "execution_count": null,
      "outputs": []
    },
    {
      "cell_type": "code",
      "source": [
        "# Date range for entire dataset\n",
        "# Calculating change in stock price\n",
        "\n",
        "def diff_vals(df, vendor, start_date, end_date):\n",
        "  df_tmp = df[df['Date'].between(start_date, end_date)]\n",
        "  diff = df_tmp[vendor].max() - df_tmp[vendor].min()\n",
        "  print(f\"\\nBetween {start_date} and {end_date},\")\n",
        "  print(f\"{vendor}'s stock price changed by {diff}\")\n",
        "  \n",
        "\n",
        "diff_vals(df, \"goog_aclose\", \"2019-06-03\", \"2023-01-27\")\n",
        "diff_vals(df, \"ms_aclose\", \"2019-06-03\", \"2023-01-27\")"
      ],
      "metadata": {
        "id": "x9weGa4SfGHU"
      },
      "execution_count": null,
      "outputs": []
    },
    {
      "cell_type": "markdown",
      "source": [
        "# Date range for November 5, 2019 when OpenAI releases GPT-2"
      ],
      "metadata": {
        "id": "zXMhqYFqXkPz"
      }
    },
    {
      "cell_type": "code",
      "source": [
        "# Date range for November 5, 2019 when OpenAI releases GPT-2\n",
        "fig = px.line(df, x=\"Date\", y=[\"ms_aclose\", \"goog_aclose\"], range_x=[\"2019-11-04\", \"2019-11-14\"])\n",
        "fig.add_annotation(x=\"2019-11-05\", y=4, text=\"OpenAI releases GPT-2\", showarrow=True, yshift=10)\n",
        "\n",
        "fig.show()"
      ],
      "metadata": {
        "id": "JQv_E8j6ULXR"
      },
      "execution_count": null,
      "outputs": []
    },
    {
      "cell_type": "code",
      "source": [
        "# Date range for November 5, 2019 when OpenAI releases GPT-2\n",
        "# Calculating change in stock price\n",
        "\n",
        "def diff_vals(df, vendor, start_date, end_date):\n",
        "  df_tmp = df[df['Date'].between(start_date, end_date)]\n",
        "  diff = df_tmp[vendor].max() - df_tmp[vendor].min()\n",
        "  print(f\"\\nBetween {start_date} and {end_date},\")\n",
        "  print(f\"{vendor}'s stock price changed by {diff}\")\n",
        "  \n",
        "\n",
        "diff_vals(df, \"goog_aclose\", \"2019-11-04\", \"2019-11-14\")\n",
        "diff_vals(df, \"ms_aclose\", \"2019-11-04\", \"2019-11-14\")"
      ],
      "metadata": {
        "id": "IQ8Hai7ve304"
      },
      "execution_count": null,
      "outputs": []
    },
    {
      "cell_type": "markdown",
      "source": [
        "# Date range for May 11, 2020 when OpenAI releases GPT-3"
      ],
      "metadata": {
        "id": "1dsaZ-5VWqFH"
      }
    },
    {
      "cell_type": "code",
      "source": [
        "# Date range for May 11, 2020 when OpenAI releases GT-3\n",
        "fig = px.line(df, x=\"Date\", y=[\"ms_aclose\", \"goog_aclose\"], range_x=[\"2020-05-10\", \"2020-05-15\"])\n",
        "fig.add_annotation(x=\"2020-05-11\", y=4, text=\"OpenAI releases GPT-3\", showarrow=True, yshift=10)\n",
        "\n",
        "fig.show()"
      ],
      "metadata": {
        "id": "hMvTUJRuTqXI"
      },
      "execution_count": null,
      "outputs": []
    },
    {
      "cell_type": "code",
      "source": [
        "# Date range for May 11, 2020 when OpenAI releases GPT-3\n",
        "# Calculating change in stock price\n",
        "\n",
        "def diff_vals(df, vendor, start_date, end_date):\n",
        "  df_tmp = df[df['Date'].between(start_date, end_date)]\n",
        "  diff = df_tmp[vendor].max() - df_tmp[vendor].min()\n",
        "  print(f\"\\nBetween {start_date} and {end_date},\")\n",
        "  print(f\"{vendor}'s stock price changed by {diff}\")\n",
        "  \n",
        "\n",
        "diff_vals(df, \"goog_aclose\", \"2020-05-11\", \"2020-05-15\")\n",
        "diff_vals(df, \"ms_aclose\", \"2020-05-11\", \"2020-05-15\")"
      ],
      "metadata": {
        "id": "LrFWRY3seqEm"
      },
      "execution_count": null,
      "outputs": []
    },
    {
      "cell_type": "markdown",
      "source": [
        "# Date range for September 22, 2020\twhen OpenAI Licenses GPT-3 Technology to Microsoft"
      ],
      "metadata": {
        "id": "OY4GgNCsWjjn"
      }
    },
    {
      "cell_type": "code",
      "source": [
        "# Date range for September 22, 2020\twhen OpenAI Licenses GPT-3 Technology to Microsoft\n",
        "fig = px.line(df, x=\"Date\", y=[\"ms_aclose\", \"goog_aclose\"], range_x=[\"2020-09-21\", \"2020-10-01\"])\n",
        "fig.add_annotation(x=\"2020-09-22\", y=4, text=\"OpenAI Licenses GPT-3 Technology to Microsoft\", showarrow=True, yshift=10)\n",
        "\n",
        "fig.show()"
      ],
      "metadata": {
        "id": "hT482xJ7QGBJ"
      },
      "execution_count": null,
      "outputs": []
    },
    {
      "cell_type": "code",
      "source": [
        "# Date range for September 22, 2020\twhen OpenAI Licenses GPT-3 Technology to Microsoft\n",
        "# Calculating change in stock price\n",
        "\n",
        "def diff_vals(df, vendor, start_date, end_date):\n",
        "  df_tmp = df[df['Date'].between(start_date, end_date)]\n",
        "  diff = df_tmp[vendor].max() - df_tmp[vendor].min()\n",
        "  print(f\"\\nBetween {start_date} and {end_date},\")\n",
        "  print(f\"{vendor}'s stock price changed by {diff}\")\n",
        "  \n",
        "\n",
        "diff_vals(df, \"goog_aclose\", \"2020-09-22\", \"2020-10-01\")\n",
        "diff_vals(df, \"ms_aclose\", \"2020-09-22\", \"2020-10-01\")"
      ],
      "metadata": {
        "id": "LxyZYEueeTxT"
      },
      "execution_count": null,
      "outputs": []
    },
    {
      "cell_type": "markdown",
      "source": [
        "# Date range for November 30, 2020 when OpenAI introduced chatGPT"
      ],
      "metadata": {
        "id": "gE2VQuH2Wfk_"
      }
    },
    {
      "cell_type": "code",
      "source": [
        "# Date range for November 30, 2020 when OpenAI introduced chatGPT\n",
        "fig = px.line(df, x=\"Date\", y=[\"ms_aclose\", \"goog_aclose\"], range_x=[\"2020-11-29\", \"2020-12-11\"])\n",
        "fig.add_annotation(x=\"2020-11-30\", y=20, text=\"OpenAI introduced chatGPT\", showarrow=True, yshift=10)\n",
        "\n",
        "fig.show()\n"
      ],
      "metadata": {
        "id": "99GWWtBUVHNv"
      },
      "execution_count": null,
      "outputs": []
    },
    {
      "cell_type": "code",
      "source": [
        "# Date range for November 30, 2020 when OpenAI introduced chatGPT\n",
        "# Calculating change in stock price\n",
        "def diff_vals(df, vendor, start_date, end_date):\n",
        "  df_tmp = df[df['Date'].between(start_date, end_date)]\n",
        "  diff = df_tmp[vendor].max() - df_tmp[vendor].min()\n",
        "  print(f\"\\nBetween {start_date} and {end_date},\")\n",
        "  print(f\"{vendor}'s stock price changed by {diff}\")\n",
        "  \n",
        "\n",
        "diff_vals(df, \"goog_aclose\", \"2020-11-30\", \"2020-12-11\")\n",
        "diff_vals(df, \"ms_aclose\", \"2020-11-30\", \"2020-12-11\")"
      ],
      "metadata": {
        "id": "8nr7l1kTd_Ka"
      },
      "execution_count": null,
      "outputs": []
    },
    {
      "cell_type": "markdown",
      "source": [
        "# Date range for August 10, 2021 when the OpenAI Codex API released"
      ],
      "metadata": {
        "id": "WKLKSVlDWaZm"
      }
    },
    {
      "cell_type": "code",
      "source": [
        "# Date range for August 10, 2021 when the OpenAI Codex API released\n",
        "fig = px.line(df, x=\"Date\", y=[\"ms_aclose\", \"goog_aclose\"], range_x=[\"2021-08-09\", \"2021-08-19\"])\n",
        "fig.add_annotation(x=\"2021-08-10\", y=4, text=\"OpenAI releases Codex API\", showarrow=True, yshift=10)\n",
        "\n",
        "fig.show()\n"
      ],
      "metadata": {
        "id": "FrI-nDjlVndO"
      },
      "execution_count": null,
      "outputs": []
    },
    {
      "cell_type": "code",
      "source": [
        "# Date range for August 10, 2021 when the OpenAI Codex API released\n",
        "# Calculating change in stock price\n",
        "def diff_vals(df, vendor, start_date, end_date):\n",
        "  df_tmp = df[df['Date'].between(start_date, end_date)]\n",
        "  diff = df_tmp[vendor].max() - df_tmp[vendor].min()\n",
        "  print(f\"\\nBetween {start_date} and {end_date},\")\n",
        "  print(f\"{vendor}'s stock price changed by {diff}\")\n",
        "  \n",
        "\n",
        "diff_vals(df, \"goog_aclose\", \"2021-08-10\", \"2021-08-20\")\n",
        "diff_vals(df, \"ms_aclose\", \"2021-08-10\", \"2021-08-20\")"
      ],
      "metadata": {
        "id": "vywCkHfjdgMW"
      },
      "execution_count": null,
      "outputs": []
    },
    {
      "cell_type": "markdown",
      "source": [
        "# Date range for July 20, 2022 when DALL·E was made available in beta"
      ],
      "metadata": {
        "id": "cQR5JHIsWWVw"
      }
    },
    {
      "cell_type": "code",
      "source": [
        "# Date range for July 20, 2022 when DALL·E was made available in beta\n",
        "fig = px.line(df, x=\"Date\", y=[\"ms_aclose\", \"goog_aclose\"], range_x=[\"2022-07-19\", \"2022-07-29\"])\n",
        "fig.add_annotation(x=\"2022-07-20\", y=4, text=\"OpenAI DALL·E made available in beta\", showarrow=True, yshift=10)\n",
        "\n",
        "fig.show()"
      ],
      "metadata": {
        "id": "bQIgdPLwV7io"
      },
      "execution_count": null,
      "outputs": []
    },
    {
      "cell_type": "code",
      "source": [
        "# Date range for July 20, 2022 when DALL·E was made available in beta\n",
        "# Calculating change in stock price\n",
        "def diff_vals(df, vendor, start_date, end_date):\n",
        "  df_tmp = df[df['Date'].between(start_date, end_date)]\n",
        "  diff = df_tmp[vendor].max() - df_tmp[vendor].min()\n",
        "  print(f\"\\nBetween {start_date} and {end_date},\")\n",
        "  print(f\"{vendor}'s stock price changed by {diff}\")\n",
        "  \n",
        "\n",
        "diff_vals(df, \"goog_aclose\", \"2022-7-20\", \"2022-7-30\")\n",
        "diff_vals(df, \"ms_aclose\", \"2022-7-20\", \"2022-7-30\")"
      ],
      "metadata": {
        "id": "1PmX2yIdWIj8"
      },
      "execution_count": null,
      "outputs": []
    },
    {
      "cell_type": "markdown",
      "source": [
        "# Date range for December 12, 2022 when OpenAI introduced chatGPT user beta"
      ],
      "metadata": {
        "id": "lSwkK_UmuCTv"
      }
    },
    {
      "cell_type": "code",
      "source": [
        "# Date range for December 12, 2022 when OpenAI introduced chatGPT user beta\n",
        "fig = px.line(df, x=\"Date\", y=[\"ms_aclose\", \"goog_aclose\"], range_x=[\"2022-12-11\", \"2022-12-20\"])\n",
        "fig.add_annotation(x=\"2022-12-12\", y=20, text=\"OpenAI introduced chatGPT user beta\", showarrow=True, yshift=10)\n",
        "\n",
        "fig.show()\n"
      ],
      "metadata": {
        "id": "VPo-nfGRt5Uz"
      },
      "execution_count": null,
      "outputs": []
    },
    {
      "cell_type": "code",
      "source": [
        "# Date range for December 12, 2022 when OpenAI introduced chatGPT user beta\n",
        "# Calculating change in stock price\n",
        "def diff_vals(df, vendor, start_date, end_date):\n",
        "  df_tmp = df[df['Date'].between(start_date, end_date)]\n",
        "  diff = df_tmp[vendor].max() - df_tmp[vendor].min()\n",
        "  print(f\"\\nBetween {start_date} and {end_date},\")\n",
        "  print(f\"{vendor}'s stock price changed by {diff}\")\n",
        "  \n",
        "\n",
        "diff_vals(df, \"goog_aclose\", \"2022-12-10\", \"2022-12-22\")\n",
        "diff_vals(df, \"ms_aclose\", \"2022-12-10\", \"2022-12-22\")"
      ],
      "metadata": {
        "id": "w5QFw1PFt5Uz"
      },
      "execution_count": null,
      "outputs": []
    },
    {
      "cell_type": "markdown",
      "source": [
        "# Summary of changes following major OpenAI announcements"
      ],
      "metadata": {
        "id": "PVVDKYHVujFn"
      }
    },
    {
      "cell_type": "code",
      "source": [
        "# open 10 day change dataset\n",
        "df_changes = pd.read_csv(\"/content/drive/MyDrive/Informa/2023/OpenAI impact on stock market/openai_stocks - Changes.csv\")\n",
        "df_changes.head(7)"
      ],
      "metadata": {
        "id": "w8opXHwAuZfx"
      },
      "execution_count": null,
      "outputs": []
    },
    {
      "cell_type": "code",
      "source": [
        "# box plot of relative value changes for each event\n",
        "fig = px.box(df_changes, x=\"Event\", y=[\"Google change\", \"Microsoft change\"])\n",
        "fig.show()"
      ],
      "metadata": {
        "id": "3HPZGYhO24xa"
      },
      "execution_count": null,
      "outputs": []
    },
    {
      "cell_type": "code",
      "source": [
        "# Bar chart of relative value changes for each event\n",
        "fig = px.bar(df_changes, x=\"Event\", y=[\"Google change\", \"Microsoft change\"])\n",
        "fig.show()"
      ],
      "metadata": {
        "id": "Nz80vs3W3NLH"
      },
      "execution_count": null,
      "outputs": []
    },
    {
      "cell_type": "code",
      "source": [],
      "metadata": {
        "id": "XOSQEz7Q3-WX"
      },
      "execution_count": null,
      "outputs": []
    }
  ]
}